{
 "cells": [
  {
   "cell_type": "code",
   "execution_count": 2,
   "id": "90fd66f1-f42f-4fa8-a4a7-0d36146619eb",
   "metadata": {},
   "outputs": [],
   "source": [
    "#My first Code"
   ]
  },
  {
   "cell_type": "code",
   "execution_count": 3,
   "id": "49d4f682-caef-44df-ab8a-18d4481c76f3",
   "metadata": {},
   "outputs": [
    {
     "data": {
      "text/plain": [
       "5"
      ]
     },
     "execution_count": 3,
     "metadata": {},
     "output_type": "execute_result"
    }
   ],
   "source": [
    "y = 2\n",
    "x=3\n",
    "x+y\n"
   ]
  },
  {
   "cell_type": "markdown",
   "id": "7e5f8d42-8c55-4aeb-804e-ca12ef8e9d4f",
   "metadata": {},
   "source": [
    "## Use python\n",
    "###Python can be proggramed in\n",
    "-as a structural program\n",
    "as a subject oriented  language(bt define the class ,constract,nethod ,object ect.)\n"
   ]
  },
  {
   "cell_type": "code",
   "execution_count": null,
   "id": "276ead35-12ea-46a2-83a1-389cc7fea13a",
   "metadata": {},
   "outputs": [],
   "source": []
  }
 ],
 "metadata": {
  "kernelspec": {
   "display_name": "Python 3 (ipykernel)",
   "language": "python",
   "name": "python3"
  },
  "language_info": {
   "codemirror_mode": {
    "name": "ipython",
    "version": 3
   },
   "file_extension": ".py",
   "mimetype": "text/x-python",
   "name": "python",
   "nbconvert_exporter": "python",
   "pygments_lexer": "ipython3",
   "version": "3.12.0"
  }
 },
 "nbformat": 4,
 "nbformat_minor": 5
}
